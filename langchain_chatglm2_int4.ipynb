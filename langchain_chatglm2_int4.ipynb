{
  "metadata": {
    "kernelspec": {
      "display_name": "Python 3",
      "name": "python3"
    },
    "language_info": {
      "name": "python",
      "version": "3.7.12",
      "mimetype": "text/x-python",
      "codemirror_mode": {
        "name": "ipython",
        "version": 3
      },
      "pygments_lexer": "ipython3",
      "nbconvert_exporter": "python",
      "file_extension": ".py"
    },
    "colab": {
      "private_outputs": true,
      "provenance": [],
      "gpuType": "T4",
      "include_colab_link": true
    },
    "accelerator": "GPU"
  },
  "nbformat_minor": 0,
  "nbformat": 4,
  "cells": [
    {
      "cell_type": "markdown",
      "metadata": {
        "id": "view-in-github",
        "colab_type": "text"
      },
      "source": [
        "<a href=\"https://colab.research.google.com/github/zhengr/langchain-ChatGLM/blob/master/langchain_chatglm2_int4.ipynb\" target=\"_parent\"><img src=\"https://colab.research.google.com/assets/colab-badge.svg\" alt=\"Open In Colab\"/></a>"
      ]
    },
    {
      "cell_type": "code",
      "source": [
        "#安装Conda\n",
        "!pip install -q condacolab\n",
        "import condacolab\n",
        "condacolab.install()"
      ],
      "metadata": {
        "id": "qnaVFBDwylSh"
      },
      "execution_count": null,
      "outputs": []
    },
    {
      "cell_type": "code",
      "source": [
        "#Setup envirnment\n",
        "!conda create -n langchain python=3.8.1 -y\n",
        "!conda activate langchain"
      ],
      "metadata": {
        "_uuid": "8f2839f25d086af736a60e9eeb907d3b93b6e0e5",
        "_cell_guid": "b1076dfc-b9ad-4769-8c92-a6c4dae69d19",
        "trusted": true,
        "id": "WkffBkpFyQVU"
      },
      "execution_count": null,
      "outputs": []
    },
    {
      "cell_type": "code",
      "source": [
        "#拉取仓库\n",
        "!git clone https://github.com/zhengr/langchain-ChatGLM.git"
      ],
      "metadata": {
        "trusted": true,
        "id": "_UF9ua52yQVY"
      },
      "execution_count": null,
      "outputs": []
    },
    {
      "cell_type": "code",
      "source": [
        "#安装依赖\n",
        "%cd langchain-ChatGLM\n",
        "!python3 -m pip install -r requirements.txt\n",
        "!python3 -m pip install gradio==3.28.3\n",
        "!python3 -m pip install tabulate"
      ],
      "metadata": {
        "id": "hPsp42DUjLKV"
      },
      "execution_count": null,
      "outputs": []
    },
    {
      "cell_type": "code",
      "source": [
        "#Download models\n",
        "!git lfs install\n",
        "%cd /content/langchain-ChatGLM\n",
        "!git clone https://huggingface.co/THUDM/chatglm2-6b-int4\n",
        "!git clone https://huggingface.co/GanymedeNil/text2vec-large-chinese"
      ],
      "metadata": {
        "trusted": true,
        "id": "CPbuTfp3yQVa"
      },
      "execution_count": null,
      "outputs": []
    },
    {
      "cell_type": "code",
      "source": [
        "#运行这个代码找到libcuda.so.1文件\n",
        "!sudo find /usr/ -name 'libcuda.so.1'\n",
        "#运行这个代码找到环境路径(被\":\"分割为两个)\n",
        "!echo $LD_LIBRARY_PATH\n",
        "cuda_file_path = \"/usr/local/cuda-11.8/compat/libcuda.so.1\" #@param {type:\"string\"}\n",
        "environment_path1 = \"/usr/local/nvidia/lib\" #@param {type:\"string\"}\n",
        "environment_path2 = \"/usr/local/nvidia/lib64\" #@param {type:\"string\"}\n",
        "\n",
        "import os\n",
        "\n",
        "!mkdir -p {environment_path1}\n",
        "!mkdir -p {environment_path2}\n",
        "\n",
        "!cp -p {cuda_file_path} {environment_path1}\n",
        "!cp -p {cuda_file_path} {environment_path2}\n",
        "\n",
        "print(\"cuda文件拷贝完成\")\n",
        "\n",
        "#@markdown **!!!运行完后，点击`代码执行程序`--`重新启动代码执行程序`完成刷新!!!**"
      ],
      "metadata": {
        "id": "7c7CAFjc6GqB"
      },
      "execution_count": null,
      "outputs": []
    },
    {
      "cell_type": "code",
      "source": [
        "#@title ### 设置参数并开始对话\n",
        "#@markdown 在开始执行 Web UI 或命令行交互前，请先检查 configs/model_config.py 中的各项模型参数设计是否符合需求`\n",
        "#当前默认\n",
        "## LLM 名称\n",
        "#LLM_MODEL = \"chatglm-6b-int4\"\n",
        "#Embedding model name\n",
        "#EMBEDDING_MODEL = \"text2vec\"\n",
        "#\"text2vec-base\": \"shibing624/text2vec-base-chinese\",\n",
        "#启动\n",
        "!python3 webui.py"
      ],
      "metadata": {
        "trusted": true,
        "id": "kQOs188yyQVb"
      },
      "execution_count": null,
      "outputs": []
    }
  ]
}